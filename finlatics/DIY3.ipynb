{
 "cells": [
  {
   "cell_type": "code",
   "execution_count": 1,
   "metadata": {},
   "outputs": [
    {
     "name": "stdout",
     "output_type": "stream",
     "text": [
      "My array is:\n",
      "[[1 2 3]\n",
      " [4 5 2]\n",
      " [2 1 8]]\n",
      "The result after multiplying each element by 2 is:\n",
      "[[ 2  4  6]\n",
      " [ 8 10  4]\n",
      " [ 4  2 16]]\n",
      "The result after adding 5 to each element is:\n",
      "[[ 6  7  8]\n",
      " [ 9 10  7]\n",
      " [ 7  6 13]]\n",
      "The square of each element is :\n",
      "[[ 1  4  9]\n",
      " [16 25  4]\n",
      " [ 4  1 64]]\n",
      "The original array is:\n",
      "[[1 2 3]\n",
      " [4 5 2]\n",
      " [2 1 8]]\n",
      "result1:\n",
      "[[ 2  4  6]\n",
      " [ 8 10  4]\n",
      " [ 4  2 16]]\n",
      "result2:\n",
      "[[ 6  7  8]\n",
      " [ 9 10  7]\n",
      " [ 7  6 13]]\n",
      "result3:\n",
      "[[ 1  4  9]\n",
      " [16 25  4]\n",
      " [ 4  1 64]]\n"
     ]
    }
   ],
   "source": [
    "'''Q1) Write a Python program to initialize a 3x3 NumPy array with any integer values of your choice. Then, perform the following operations:\n",
    "Multiply the entire array by 2.\n",
    "Add 5 to each element of the array.\n",
    "Calculate the square of each element in the array.\n",
    "Print the original array and the results of each operation.'''\n",
    "\n",
    "import numpy as np\n",
    "my_array = np.array([[1,2,3],[4,5,2],[2,1,8]])\n",
    "print(\"My array is:\",my_array,sep='\\n')\n",
    "result1 = my_array * 2\n",
    "print(\"The result after multiplying each element by 2 is:\",result1,sep = '\\n')\n",
    "result2 = my_array+5\n",
    "print(\"The result after adding 5 to each element is:\",result2,sep='\\n')\n",
    "result3 = my_array**2\n",
    "print(\"The square of each element is :\",result3,sep=\"\\n\")\n",
    "print(\"The original array is:\",my_array,sep='\\n')\n",
    "print(\"result1:\",result1,sep='\\n')\n",
    "print(\"result2:\",result2,sep='\\n')\n",
    "print('result3:',result3,sep='\\n')"
   ]
  },
  {
   "cell_type": "code",
   "execution_count": 2,
   "metadata": {},
   "outputs": [
    {
     "name": "stdout",
     "output_type": "stream",
     "text": [
      "result1: [1 2 4]\n",
      "result2: [4 5 0]\n",
      "result3:\n",
      "[[9 5]\n",
      " [5 0]]\n"
     ]
    }
   ],
   "source": [
    "'''Q2) Write a Python program to initialize a 3x3 NumPy array with any integer values of your choice. Then, perform the following slicing operations:\n",
    "Extract the first row of the array.\n",
    "Extract the last column of the array.\n",
    "Extract a 2x2 sub-array from the center of the original array.'''\n",
    "\n",
    "import numpy as np\n",
    "arr = np.array([[1,2,4],[8,9,5],[6,5,0]])\n",
    "print(\"result1:\",arr[0,:])\n",
    "print(\"result2:\",arr[:,2])\n",
    "print(\"result3:\",arr[1:3,1:3],sep='\\n')\n"
   ]
  },
  {
   "cell_type": "code",
   "execution_count": 3,
   "metadata": {},
   "outputs": [
    {
     "name": "stdout",
     "output_type": "stream",
     "text": [
      "        name  marks\n",
      "1    Aradhya     90\n",
      "2   Abhishek     80\n",
      "3    Avinash     99\n",
      "4     Ashwin     78\n",
      "5    Ashwini     62\n",
      "6       Aish     70\n",
      "7     Janavi     66\n",
      "8    Krupali     99\n",
      "9       Uday     95\n",
      "10   Kailash     92\n"
     ]
    },
    {
     "name": "stderr",
     "output_type": "stream",
     "text": [
      "C:\\Users\\DELL\\AppData\\Local\\Temp\\ipykernel_18924\\2775807926.py:3: DeprecationWarning: \n",
      "Pyarrow will become a required dependency of pandas in the next major release of pandas (pandas 3.0),\n",
      "(to allow more performant data types, such as the Arrow string type, and better interoperability with other libraries)\n",
      "but was not found to be installed on your system.\n",
      "If this would cause problems for you,\n",
      "please provide us feedback at https://github.com/pandas-dev/pandas/issues/54466\n",
      "        \n",
      "  import pandas as pd\n"
     ]
    }
   ],
   "source": [
    "'''Q3) Write a program to create a DataFrame in Python to store the names and marks of 10 students. Each row of the DataFrame should represent a student, with columns as 'Name' and 'Marks'. Populate the DataFrame with appropriate data and then print it.'''\n",
    "\n",
    "import pandas as pd\n",
    "data = {\n",
    "    \"name\":[\"Aradhya\",\"Abhishek\",\"Avinash\",\"Ashwin\",\"Ashwini\",\"Aish\",\"Janavi\",\"Krupali\",\"Uday\",\"Kailash\"],\n",
    "    \"marks\": [90,80,99,78,62,70,66,99,95,92]\n",
    "        }\n",
    "df = pd.DataFrame(data,index=[1,2,3,4,5,6,7,8,9,10])\n",
    "print(df)"
   ]
  },
  {
   "cell_type": "code",
   "execution_count": 4,
   "metadata": {},
   "outputs": [
    {
     "name": "stdout",
     "output_type": "stream",
     "text": [
      "  Employee_name  Income\n",
      "a       Ashwini   30000\n",
      "b      Abhishek   40000\n",
      "c        Janavi   30000\n",
      "d           Sid   27000\n",
      "e          Mala   10000\n"
     ]
    }
   ],
   "source": [
    "'''Q4) Write a python program to create a DataFrame representing the names and income of 5 employees. The DataFrame should include columns ' Employee_name’ and ‘Income', and each row should correspond to an individual employee. Use the indices 'a', 'b', 'c', 'd', and 'e' for the DataFrame entries to uniquely identify each employee.'''\n",
    "\n",
    "import pandas as ppd\n",
    "data = {\n",
    "    \"Employee_name\":[\"Ashwini\",\"Abhishek\",\"Janavi\",\"Sid\",\"Mala\"],\n",
    "    \"Income\" : [30000,40000,30000,27000,10000]}\n",
    "df = pd.DataFrame(data,index=[\"a\",\"b\",\"c\",\"d\",\"e\"])\n",
    "print(df)"
   ]
  },
  {
   "cell_type": "code",
   "execution_count": 5,
   "metadata": {},
   "outputs": [
    {
     "data": {
      "image/png": "[encoded data removed]",
      "text/plain": [
       "<Figure size 640x480 with 1 Axes>"
      ]
     },
     "metadata": {},
     "output_type": "display_data"
    }
   ],
   "source": [
    "'''Q5) Imagine you're tasked with visualizing data using Python. You have the following dataset representing the frequency of occurrences for categories A, B, C, D, and E, stored in two lists:\n",
    "x = ['A', 'B', 'C', 'D', 'E']\n",
    "y = [10, 20, 15, 25, 30]\n",
    "Write a Python script that creates a bar plot to visualize this data. The categories A, B, C, D, and E should be displayed on the x-axis, while the corresponding frequencies should be displayed on the y-axis.'''\n",
    "\n",
    "import matplotlib.pyplot as plt\n",
    "x = ['A', 'B', 'C', 'D', 'E']\n",
    "y = [10, 20, 15, 25, 30]\n",
    "plt.bar(x,y)\n",
    "plt.xlabel(\"X\")\n",
    "plt.ylabel(\"Y\")\n",
    "plt.title(\"Bar Graph\")\n",
    "plt.show()"
   ]
  },
  {
   "cell_type": "code",
   "execution_count": null,
   "metadata": {},
   "outputs": [],
   "source": []
  }
 ],
 "metadata": {
  "kernelspec": {
   "display_name": "Python 3",
   "language": "python",
   "name": "python3"
  },
  "language_info": {
   "codemirror_mode": {
    "name": "ipython",
    "version": 3
   },
   "file_extension": ".py",
   "mimetype": "text/x-python",
   "name": "python",
   "nbconvert_exporter": "python",
   "pygments_lexer": "ipython3",
   "version": "3.11.2"
  }
 },
 "nbformat": 4,
 "nbformat_minor": 2
}
