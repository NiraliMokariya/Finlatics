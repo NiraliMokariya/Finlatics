{
 "cells": [
  {
   "cell_type": "code",
   "execution_count": 6,
   "metadata": {},
   "outputs": [
    {
     "name": "stdout",
     "output_type": "stream",
     "text": [
      "2000 is a leap year\n"
     ]
    }
   ],
   "source": [
    " #%% Write a program that prompts the user to input a year, checks whether it's a leap year or not, and then prints the result.\n",
    "def leap_year(year):\n",
    "    return (year % 4 == 0) \n",
    "\n",
    "year = int(input(\"Enter a year: \"))\n",
    "if leap_year(year) == True:\n",
    "    print(f\"{year} is a leap year\")\n",
    "else:\n",
    "    print(f\"{year} is not a leap year\")"
   ]
  },
  {
   "cell_type": "code",
   "execution_count": 52,
   "metadata": {},
   "outputs": [
    {
     "name": "stdout",
     "output_type": "stream",
     "text": [
      "The vowels count is 10\n"
     ]
    }
   ],
   "source": [
    "#%% Write a Python program that prompts the user to input a word. The program should then determine and output the count of vowels (a, e, i, o, u) in the provided word. Additionally, consider that the word can be in either uppercase or lowercase.\n",
    "\n",
    "vowels = ['a','e','i','o','u']\n",
    "\n",
    "count = 0\n",
    "user_input = input(\"Enter your word:\")\n",
    "\n",
    "\n",
    "for vowel in vowels:\n",
    "    count = user_input.count(vowel) + count\n",
    "\n",
    "print(\"The vowels count is\",count) \n"
   ]
  },
  {
   "cell_type": "code",
   "execution_count": 10,
   "metadata": {},
   "outputs": [
    {
     "name": "stdout",
     "output_type": "stream",
     "text": [
      "The name starts with a Aru\n",
      "The name starts with a Avi\n",
      "The name starts with a asha\n",
      "The name starts with a aish\n",
      "The name starts with a ash\n"
     ]
    }
   ],
   "source": [
    "#%% Write a Python program that allows the user to input a list of 6 names. After receiving the list, the program should print only the names that start with the letter 'a', regardless of whether the letter is uppercase or lowercase.\n",
    "list = []\n",
    " \n",
    "for i in range(6):\n",
    "    name = input(\"Enter names:\")\n",
    "    list.append(name)\n",
    "\n",
    "\n",
    "for name in list:\n",
    "    if name[0].lower() == 'a':\n",
    "        print(\"The name starts with a\",name)\n",
    "       \n",
    "    \n",
    "    "
   ]
  },
  {
   "cell_type": "code",
   "execution_count": 4,
   "metadata": {},
   "outputs": [
    {
     "name": "stdout",
     "output_type": "stream",
     "text": [
      "[2, 3, 4, 5, 6, 7, 8, 9, 1, 10]\n",
      "The number is even and the square of the number would be: 4\n",
      "The number is odd and the cube of the number is: 27\n",
      "The number is even and the square of the number would be: 16\n",
      "The number is odd and the cube of the number is: 125\n",
      "The number is even and the square of the number would be: 36\n",
      "The number is odd and the cube of the number is: 343\n",
      "The number is even and the square of the number would be: 64\n",
      "The number is odd and the cube of the number is: 729\n",
      "The number is odd and the cube of the number is: 1\n",
      "The number is even and the square of the number would be: 100\n"
     ]
    }
   ],
   "source": [
    "'''Write a Python program that takes a list of 10 integers as input. Your program should iterate through the list and print the following:\n",
    "       For each even number encountered, print the number squared.\n",
    "       For each odd number encountered, print the number cubed. '''\n",
    "       \n",
    "list = []\n",
    "for number in range(10):\n",
    "    number = int(input(\"The number is:\"))\n",
    "    list.append(number)\n",
    "print(list)\n",
    "\n",
    "\n",
    "for number in list:\n",
    "    if number%2==0:\n",
    "        print(\"The number is even and the square of the number would be:\",(number**2))\n",
    "    else:\n",
    "        print(\"The number is odd and the cube of the number is:\",(number**3))"
   ]
  },
  {
   "cell_type": "code",
   "execution_count": 53,
   "metadata": {},
   "outputs": [
    {
     "name": "stdout",
     "output_type": "stream",
     "text": [
      "The delivery charge when 21.0 kms is 70\n",
      "The total charge is: 270\n"
     ]
    }
   ],
   "source": [
    "# %% Imagine you're ordering flowers from a local delivery service. They offer a selection of beautiful flowers, including roses. Each rose is priced at Rs. 10. Along with your choice of roses, you'll need to provide the count of roses you wish to order and the delivery distance. The delivery charges are as follows: Rs. 25 for distances within 5 kilometers, Rs. 50 for distances between 5 and 10 kilometers, and Rs. 75 for distances greater than 10 kilometers. Write a Python program that prompts the user to enter the count of roses and the delivery distance, then calculates and displays the total price to pay, including both the cost of roses and the delivery charge.\n",
    "roses = int(input(\"Enter the number of roses needed:\"))\n",
    "distance = float(input(\"Enter your distance in KM\"))\n",
    "\n",
    "if distance <= 5:\n",
    "    delivery_charge = 25\n",
    "    print(f\"The delivery charge when {distance} kms is {delivery_charge}\")\n",
    "elif 5 < distance <= 10:\n",
    "    delivery_charge = 50\n",
    "    print(f\"the delivery charge when {distance} kms is {delivery_charge}\")\n",
    "else:\n",
    "    delivery_charge = 70\n",
    "    print(f\"The delivery charge when {distance} kms is {delivery_charge}\")\n",
    "price_of_roses = roses*10\n",
    "       \n",
    "charge = delivery_charge+price_of_roses\n",
    "print(\"The total charge is:\",charge)"
   ]
  },
  {
   "cell_type": "code",
   "execution_count": null,
   "metadata": {},
   "outputs": [],
   "source": []
  }
 ],
 "metadata": {
  "kernelspec": {
   "display_name": "Python 3",
   "language": "python",
   "name": "python3"
  },
  "language_info": {
   "codemirror_mode": {
    "name": "ipython",
    "version": 3
   },
   "file_extension": ".py",
   "mimetype": "text/x-python",
   "name": "python",
   "nbconvert_exporter": "python",
   "pygments_lexer": "ipython3",
   "version": "3.11.2"
  }
 },
 "nbformat": 4,
 "nbformat_minor": 2
}
