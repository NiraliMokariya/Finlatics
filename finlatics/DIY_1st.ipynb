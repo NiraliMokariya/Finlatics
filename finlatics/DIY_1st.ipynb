{
 "cells": [
  {
   "cell_type": "code",
   "execution_count": 4,
   "metadata": {},
   "outputs": [
    {
     "name": "stdout",
     "output_type": "stream",
     "text": [
      "welcome to the club , Nirali\n",
      "The original value1 is:78\n",
      "The original value2 is:12\n",
      "The swapped value1 is:12\n",
      "The swapped value2 is:78\n"
     ]
    }
   ],
   "source": [
    "#%% Write a Python program that takes user input for their name and greets the user. Then, prompt the user to enter two values. After receiving the values, swap them and print both the original values and the swapped values.\n",
    "name=input(\"Enter your name:\")\n",
    "print(f\"welcome to the club , {name}\")\n",
    "value1=int(input(\"Print the first value:\"))\n",
    "value2=int(input(\"Print the second value:\"))\n",
    "print(f\"The original value1 is:{value1}\")\n",
    "print(f\"The original value2 is:{value2}\")\n",
    "#after swapping\n",
    "value1,value2=value2,value1\n",
    "print(f\"The swapped value1 is:{value1}\")\n",
    "print(f\"The swapped value2 is:{value2}\")"
   ]
  },
  {
   "cell_type": "code",
   "execution_count": 5,
   "metadata": {},
   "outputs": [
    {
     "name": "stdout",
     "output_type": "stream",
     "text": [
      "1.910828025477707\n",
      "11.464968152866243\n"
     ]
    }
   ],
   "source": [
    "# %% Write a Python program that asks the user to input the radius of a circle. Calculate the area of the circle using the formula area = π * radius^2, where π (pi) is a constant approximately equal to 3.14. Print out the calculated area. Ensure that the user input for the radius is converted to a float data type before performing calculations.\n",
    "circumference = float(input(\"The circumference of a circle is:\"))\n",
    "pi = 3.14\n",
    "radius = circumference/(2*pi)                    \n",
    "print(radius)\n",
    "#area of a circe = pi*r^2\n",
    "area = pi*radius**2\n",
    "print(area)"
   ]
  },
  {
   "cell_type": "code",
   "execution_count": 6,
   "metadata": {},
   "outputs": [
    {
     "name": "stdout",
     "output_type": "stream",
     "text": [
      "Your age is -98\n"
     ]
    }
   ],
   "source": [
    "# %% Write a Python program where the user is prompted to input their birth year. The program should then calculate and display the user's current age.\n",
    "birth_year = int(input(\"Enter your birth year :\"))\n",
    "print(f\"Your age is {2024-birth_year}\")"
   ]
  },
  {
   "cell_type": "code",
   "execution_count": 7,
   "metadata": {},
   "outputs": [
    {
     "name": "stdout",
     "output_type": "stream",
     "text": [
      "Hello, Ashwin! We're delighted to serve you your favorite Honey cake on your birthday. Happy Birthday.\n"
     ]
    }
   ],
   "source": [
    "# %% Write a Python program where customers are prompted to input their name and favorite cake flavor. The program should then print a customized message saying: \"Hello, [name]! We're delighted to serve you your favorite [favorite_cake] cake on your birthday. Happy Birthday.\"\n",
    "name = input(\"Enter your name:\")\n",
    "fav_cake = input(\"Enter your fav cake flavor:\")\n",
    "print(f\"Hello, {name}! We're delighted to serve you your favorite {fav_cake} cake on your birthday. Happy Birthday.\")"
   ]
  },
  {
   "cell_type": "code",
   "execution_count": 8,
   "metadata": {},
   "outputs": [
    {
     "name": "stdout",
     "output_type": "stream",
     "text": [
      "22.007999999999996\n"
     ]
    }
   ],
   "source": [
    "# %% Write a Python program to calculate the simple interest with user input for principal amount, rate, and time.\n",
    "principal = float(input(\"Enter principal value:\"))\n",
    "rate = float(input(\"Enter Rate of interest:\"))\n",
    "time = int(input(\"Enter time:\"))\n",
    "si = (principal*rate*time)/100\n",
    "print(si)"
   ]
  },
  {
   "cell_type": "code",
   "execution_count": null,
   "metadata": {},
   "outputs": [],
   "source": []
  }
 ],
 "metadata": {
  "kernelspec": {
   "display_name": "Python 3",
   "language": "python",
   "name": "python3"
  },
  "language_info": {
   "codemirror_mode": {
    "name": "ipython",
    "version": 3
   },
   "file_extension": ".py",
   "mimetype": "text/x-python",
   "name": "python",
   "nbconvert_exporter": "python",
   "pygments_lexer": "ipython3",
   "version": "3.11.2"
  }
 },
 "nbformat": 4,
 "nbformat_minor": 2
}
